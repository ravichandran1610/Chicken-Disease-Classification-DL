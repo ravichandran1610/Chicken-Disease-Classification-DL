{
 "cells": [
  {
   "cell_type": "code",
   "execution_count": 1,
   "metadata": {},
   "outputs": [],
   "source": [
    "import os"
   ]
  },
  {
   "cell_type": "code",
   "execution_count": 2,
   "metadata": {},
   "outputs": [
    {
     "data": {
      "text/plain": [
       "'c:\\\\Users\\\\Lenovo\\\\Documents\\\\Work\\\\Learning\\\\ML_DataScience\\\\Workspace\\\\Visual_Studio\\\\Chicken-Disease-Classification-DL\\\\research'"
      ]
     },
     "execution_count": 2,
     "metadata": {},
     "output_type": "execute_result"
    }
   ],
   "source": [
    "pwd"
   ]
  },
  {
   "cell_type": "code",
   "execution_count": 3,
   "metadata": {},
   "outputs": [],
   "source": [
    "os.chdir('../')"
   ]
  },
  {
   "cell_type": "code",
   "execution_count": 5,
   "metadata": {},
   "outputs": [
    {
     "data": {
      "text/plain": [
       "'c:\\\\Users\\\\Lenovo\\\\Documents\\\\Work\\\\Learning\\\\ML_DataScience\\\\Workspace\\\\Visual_Studio\\\\Chicken-Disease-Classification-DL'"
      ]
     },
     "execution_count": 5,
     "metadata": {},
     "output_type": "execute_result"
    }
   ],
   "source": [
    "%pwd"
   ]
  },
  {
   "cell_type": "code",
   "execution_count": 6,
   "metadata": {},
   "outputs": [],
   "source": [
    "from dataclasses import dataclass\n",
    "from pathlib import Path\n",
    "\n",
    "@dataclass(frozen=True)\n",
    "class PrepareCallbackConfig:\n",
    "    root_dir: Path\n",
    "    tensorboard_root_log_dir: Path\n",
    "    checkpoint_model_filepath: Path"
   ]
  },
  {
   "cell_type": "code",
   "execution_count": 7,
   "metadata": {},
   "outputs": [],
   "source": [
    "from cnnClassifier.constants import *\n",
    "from cnnClassifier.utils.common import read_yaml, create_directories"
   ]
  },
  {
   "cell_type": "code",
   "execution_count": 8,
   "metadata": {},
   "outputs": [],
   "source": [
    "class ConfigurationManager:\n",
    "    def __init__(\n",
    "            self,\n",
    "            config_filepath  = CONFIG_FILE_PATH,\n",
    "            params_filepath = PARAMS_FILE_PATH,\n",
    "    ):\n",
    "        self.config = read_yaml(config_filepath)\n",
    "        self.params = read_yaml(params_filepath)\n",
    "\n",
    "        create_directories([self.config.artifacts_root])\n",
    "    \n",
    "    \n",
    "    def get_prepare_callback_config(self) -> PrepareCallbackConfig:\n",
    "        config = self.config.prepare_callbacks\n",
    "\n",
    "        model_check_point_dir = os.path.dirname(config.checkpoint_model_filepath)\n",
    "        create_directories([Path(config.tensorboard_root_log_dir), Path(model_check_point_dir)])\n",
    "\n",
    "        prepare_callback_config = PrepareCallbackConfig(\n",
    "            root_dir=config.root_dir,\n",
    "            tensorboard_root_log_dir=config.tensorboard_root_log_dir,\n",
    "            checkpoint_model_filepath=config.checkpoint_model_filepath\n",
    "        )\n",
    "\n",
    "        return prepare_callback_config\n"
   ]
  },
  {
   "cell_type": "code",
   "execution_count": 9,
   "metadata": {},
   "outputs": [],
   "source": [
    "import os\n",
    "from pathlib import Path\n",
    "import urllib.request as request\n",
    "from zipfile import ZipFile\n",
    "import tensorflow as tf\n",
    "import time"
   ]
  },
  {
   "cell_type": "code",
   "execution_count": 10,
   "metadata": {},
   "outputs": [],
   "source": [
    "class PrepareCallback:\n",
    "    def __init__(self, config: PrepareCallbackConfig):\n",
    "        self.config = config\n",
    "\n",
    "    \n",
    "    @property\n",
    "    def _create_tb_callbacks(self):\n",
    "        timestamp = time.strftime('%Y-%m-%d-%H-%M-%S')\n",
    "        tb_running_log_dir = os.path.join(self.config.tensorboard_root_log_dir, f\"tb_logs_at_{timestamp}\")\n",
    "\n",
    "        return tf.keras.callbacks.TensorBoard(log_dir=tb_running_log_dir)\n",
    "    \n",
    "\n",
    "    @property\n",
    "    def _create_check_point_callbacks(self):\n",
    "        return tf.keras.callbacks.ModelCheckpoint(\n",
    "            filepath = self.config.checkpoint_model_filepath,\n",
    "            save_best_only=True\n",
    "        )\n",
    "    \n",
    "\n",
    "    def get_tb_checkpoint_callbacks(self):\n",
    "\n",
    "        return [\n",
    "            self._create_tb_callbacks,\n",
    "            self._create_check_point_callbacks\n",
    "        ]\n",
    "\n"
   ]
  },
  {
   "cell_type": "code",
   "execution_count": 11,
   "metadata": {},
   "outputs": [
    {
     "name": "stdout",
     "output_type": "stream",
     "text": [
      "[2025-02-27 23:57:12,491: INFO: common: yaml file: config\\config.yaml loaded successfully]\n",
      "[2025-02-27 23:57:12,512: INFO: common: yaml file: params.yaml loaded successfully]\n",
      "[2025-02-27 23:57:12,516: INFO: common: created directory at: artifacts]\n",
      "[2025-02-27 23:57:12,519: INFO: common: created directory at: artifacts\\prepare_callbacks\\tensorboard_log_dir]\n",
      "[2025-02-27 23:57:12,523: INFO: common: created directory at: artifacts\\prepare_callbacks\\checkpoint_dir]\n"
     ]
    }
   ],
   "source": [
    "try:\n",
    "    config = ConfigurationManager()\n",
    "    prepare_callbacks_config = config.get_prepare_callback_config()\n",
    "    prepare_callback = PrepareCallback(config=prepare_callbacks_config)\n",
    "    callback_list = prepare_callback.get_tb_checkpoint_callbacks()\n",
    "\n",
    "except Exception as e:\n",
    "    raise e\n",
    "\n"
   ]
  },
  {
   "cell_type": "code",
   "execution_count": null,
   "metadata": {},
   "outputs": [],
   "source": []
  }
 ],
 "metadata": {
  "kernelspec": {
   "display_name": "chicken",
   "language": "python",
   "name": "python3"
  },
  "language_info": {
   "codemirror_mode": {
    "name": "ipython",
    "version": 3
   },
   "file_extension": ".py",
   "mimetype": "text/x-python",
   "name": "python",
   "nbconvert_exporter": "python",
   "pygments_lexer": "ipython3",
   "version": "3.12.9"
  }
 },
 "nbformat": 4,
 "nbformat_minor": 2
}
